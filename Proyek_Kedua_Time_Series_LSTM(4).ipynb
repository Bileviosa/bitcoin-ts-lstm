{
  "nbformat": 4,
  "nbformat_minor": 0,
  "metadata": {
    "colab": {
      "name": "Proyek Kedua - Time Series LSTM(4)",
      "provenance": []
    },
    "kernelspec": {
      "name": "python3",
      "display_name": "Python 3"
    },
    "language_info": {
      "name": "python"
    },
    "accelerator": "GPU"
  },
  "cells": [
    {
      "cell_type": "markdown",
      "metadata": {
        "id": "gEyDzIaiwfus"
      },
      "source": [
        "load dataset"
      ]
    },
    {
      "cell_type": "code",
      "metadata": {
        "colab": {
          "base_uri": "https://localhost:8080/",
          "height": 455
        },
        "id": "uWyxFbrUwJJB",
        "outputId": "17723763-3ee2-49cf-9e0f-a8d345130719"
      },
      "source": [
        "import pandas as pd\n",
        "\n",
        "url = './drive/MyDrive/Dataset Colabs/Time Series/bitcoin.csv'\n",
        "data = pd.read_csv(url, parse_dates=['Date'], index_col='Date')\n",
        "data"
      ],
      "execution_count": 1,
      "outputs": [
        {
          "output_type": "execute_result",
          "data": {
            "text/html": [
              "<div>\n",
              "<style scoped>\n",
              "    .dataframe tbody tr th:only-of-type {\n",
              "        vertical-align: middle;\n",
              "    }\n",
              "\n",
              "    .dataframe tbody tr th {\n",
              "        vertical-align: top;\n",
              "    }\n",
              "\n",
              "    .dataframe thead th {\n",
              "        text-align: right;\n",
              "    }\n",
              "</style>\n",
              "<table border=\"1\" class=\"dataframe\">\n",
              "  <thead>\n",
              "    <tr style=\"text-align: right;\">\n",
              "      <th></th>\n",
              "      <th>Open</th>\n",
              "      <th>High</th>\n",
              "      <th>Low</th>\n",
              "      <th>Close</th>\n",
              "      <th>Volume (BTC)</th>\n",
              "      <th>Volume (Currency)</th>\n",
              "      <th>Weighted Price</th>\n",
              "    </tr>\n",
              "    <tr>\n",
              "      <th>Date</th>\n",
              "      <th></th>\n",
              "      <th></th>\n",
              "      <th></th>\n",
              "      <th></th>\n",
              "      <th></th>\n",
              "      <th></th>\n",
              "      <th></th>\n",
              "    </tr>\n",
              "  </thead>\n",
              "  <tbody>\n",
              "    <tr>\n",
              "      <th>2014-01-07</th>\n",
              "      <td>874.67040</td>\n",
              "      <td>892.06753</td>\n",
              "      <td>810.00000</td>\n",
              "      <td>810.00000</td>\n",
              "      <td>15.622378</td>\n",
              "      <td>1.315147e+04</td>\n",
              "      <td>841.835522</td>\n",
              "    </tr>\n",
              "    <tr>\n",
              "      <th>2014-01-08</th>\n",
              "      <td>810.00000</td>\n",
              "      <td>899.84281</td>\n",
              "      <td>788.00000</td>\n",
              "      <td>824.98287</td>\n",
              "      <td>19.182756</td>\n",
              "      <td>1.609733e+04</td>\n",
              "      <td>839.156269</td>\n",
              "    </tr>\n",
              "    <tr>\n",
              "      <th>2014-01-09</th>\n",
              "      <td>825.56345</td>\n",
              "      <td>870.00000</td>\n",
              "      <td>807.42084</td>\n",
              "      <td>841.86934</td>\n",
              "      <td>8.158335</td>\n",
              "      <td>6.784250e+03</td>\n",
              "      <td>831.572913</td>\n",
              "    </tr>\n",
              "    <tr>\n",
              "      <th>2014-01-10</th>\n",
              "      <td>839.99000</td>\n",
              "      <td>857.34056</td>\n",
              "      <td>817.00000</td>\n",
              "      <td>857.33056</td>\n",
              "      <td>8.024510</td>\n",
              "      <td>6.780220e+03</td>\n",
              "      <td>844.938794</td>\n",
              "    </tr>\n",
              "    <tr>\n",
              "      <th>2014-01-11</th>\n",
              "      <td>858.20000</td>\n",
              "      <td>918.05471</td>\n",
              "      <td>857.16554</td>\n",
              "      <td>899.84105</td>\n",
              "      <td>18.748285</td>\n",
              "      <td>1.669857e+04</td>\n",
              "      <td>890.671709</td>\n",
              "    </tr>\n",
              "    <tr>\n",
              "      <th>...</th>\n",
              "      <td>...</td>\n",
              "      <td>...</td>\n",
              "      <td>...</td>\n",
              "      <td>...</td>\n",
              "      <td>...</td>\n",
              "      <td>...</td>\n",
              "      <td>...</td>\n",
              "    </tr>\n",
              "    <tr>\n",
              "      <th>2017-10-13</th>\n",
              "      <td>5429.80000</td>\n",
              "      <td>5854.40000</td>\n",
              "      <td>5380.10000</td>\n",
              "      <td>5640.00000</td>\n",
              "      <td>9222.144339</td>\n",
              "      <td>5.178706e+07</td>\n",
              "      <td>5615.511555</td>\n",
              "    </tr>\n",
              "    <tr>\n",
              "      <th>2017-10-14</th>\n",
              "      <td>5626.70000</td>\n",
              "      <td>5800.00000</td>\n",
              "      <td>5556.10000</td>\n",
              "      <td>5800.00000</td>\n",
              "      <td>3019.946476</td>\n",
              "      <td>1.719205e+07</td>\n",
              "      <td>5692.831135</td>\n",
              "    </tr>\n",
              "    <tr>\n",
              "      <th>2017-10-15</th>\n",
              "      <td>5800.00000</td>\n",
              "      <td>5840.40000</td>\n",
              "      <td>5462.10000</td>\n",
              "      <td>5680.00000</td>\n",
              "      <td>4536.386215</td>\n",
              "      <td>2.545265e+07</td>\n",
              "      <td>5610.777658</td>\n",
              "    </tr>\n",
              "    <tr>\n",
              "      <th>2017-10-16</th>\n",
              "      <td>5673.20000</td>\n",
              "      <td>5776.60000</td>\n",
              "      <td>5550.00000</td>\n",
              "      <td>5738.80000</td>\n",
              "      <td>3134.620657</td>\n",
              "      <td>1.778638e+07</td>\n",
              "      <td>5674.172630</td>\n",
              "    </tr>\n",
              "    <tr>\n",
              "      <th>2017-10-17</th>\n",
              "      <td>5738.70000</td>\n",
              "      <td>5759.90000</td>\n",
              "      <td>5535.10000</td>\n",
              "      <td>5577.80000</td>\n",
              "      <td>3322.439554</td>\n",
              "      <td>1.869327e+07</td>\n",
              "      <td>5626.368279</td>\n",
              "    </tr>\n",
              "  </tbody>\n",
              "</table>\n",
              "<p>1380 rows × 7 columns</p>\n",
              "</div>"
            ],
            "text/plain": [
              "                  Open        High  ...  Volume (Currency)  Weighted Price\n",
              "Date                                ...                                   \n",
              "2014-01-07   874.67040   892.06753  ...       1.315147e+04      841.835522\n",
              "2014-01-08   810.00000   899.84281  ...       1.609733e+04      839.156269\n",
              "2014-01-09   825.56345   870.00000  ...       6.784250e+03      831.572913\n",
              "2014-01-10   839.99000   857.34056  ...       6.780220e+03      844.938794\n",
              "2014-01-11   858.20000   918.05471  ...       1.669857e+04      890.671709\n",
              "...                ...         ...  ...                ...             ...\n",
              "2017-10-13  5429.80000  5854.40000  ...       5.178706e+07     5615.511555\n",
              "2017-10-14  5626.70000  5800.00000  ...       1.719205e+07     5692.831135\n",
              "2017-10-15  5800.00000  5840.40000  ...       2.545265e+07     5610.777658\n",
              "2017-10-16  5673.20000  5776.60000  ...       1.778638e+07     5674.172630\n",
              "2017-10-17  5738.70000  5759.90000  ...       1.869327e+07     5626.368279\n",
              "\n",
              "[1380 rows x 7 columns]"
            ]
          },
          "metadata": {},
          "execution_count": 1
        }
      ]
    },
    {
      "cell_type": "markdown",
      "metadata": {
        "id": "Q3UA1RNA0fL5"
      },
      "source": [
        "cek data set info "
      ]
    },
    {
      "cell_type": "code",
      "metadata": {
        "colab": {
          "base_uri": "https://localhost:8080/"
        },
        "id": "XsIam3lNpxyk",
        "outputId": "0a8e0b08-5261-4de0-8b6e-42543492e9c1"
      },
      "source": [
        "data.info()"
      ],
      "execution_count": 2,
      "outputs": [
        {
          "output_type": "stream",
          "name": "stdout",
          "text": [
            "<class 'pandas.core.frame.DataFrame'>\n",
            "DatetimeIndex: 1380 entries, 2014-01-07 to 2017-10-17\n",
            "Data columns (total 7 columns):\n",
            " #   Column             Non-Null Count  Dtype  \n",
            "---  ------             --------------  -----  \n",
            " 0   Open               1380 non-null   float64\n",
            " 1   High               1380 non-null   float64\n",
            " 2   Low                1380 non-null   float64\n",
            " 3   Close              1380 non-null   float64\n",
            " 4   Volume (BTC)       1380 non-null   float64\n",
            " 5   Volume (Currency)  1380 non-null   float64\n",
            " 6   Weighted Price     1380 non-null   float64\n",
            "dtypes: float64(7)\n",
            "memory usage: 86.2 KB\n"
          ]
        }
      ]
    },
    {
      "cell_type": "markdown",
      "metadata": {
        "id": "rfPangzHwkCS"
      },
      "source": [
        "cek null data"
      ]
    },
    {
      "cell_type": "code",
      "metadata": {
        "colab": {
          "base_uri": "https://localhost:8080/"
        },
        "id": "sqWvNhM8iFOF",
        "outputId": "27f4eb71-0cfe-4613-e1ba-b12b12dc2011"
      },
      "source": [
        "data.isnull().sum()"
      ],
      "execution_count": 3,
      "outputs": [
        {
          "output_type": "execute_result",
          "data": {
            "text/plain": [
              "Open                 0\n",
              "High                 0\n",
              "Low                  0\n",
              "Close                0\n",
              "Volume (BTC)         0\n",
              "Volume (Currency)    0\n",
              "Weighted Price       0\n",
              "dtype: int64"
            ]
          },
          "metadata": {},
          "execution_count": 3
        }
      ]
    },
    {
      "cell_type": "markdown",
      "metadata": {
        "id": "nr_YhwwLw5NJ"
      },
      "source": [
        "cek pattern in weighted price each month"
      ]
    },
    {
      "cell_type": "code",
      "metadata": {
        "colab": {
          "base_uri": "https://localhost:8080/",
          "height": 338
        },
        "id": "IBeXMcVuiTNt",
        "outputId": "94c37403-69e4-4efb-aea6-2439b2e7d874"
      },
      "source": [
        "import matplotlib.pyplot as plt\n",
        "\n",
        "time = data.index.values\n",
        "test = data['Weighted Price'].values\n",
        "\n",
        "plt.figure(figsize=(15,5))\n",
        "plt.plot(time, test)"
      ],
      "execution_count": 4,
      "outputs": [
        {
          "output_type": "execute_result",
          "data": {
            "text/plain": [
              "[<matplotlib.lines.Line2D at 0x7f99850a4050>]"
            ]
          },
          "metadata": {},
          "execution_count": 4
        },
        {
          "output_type": "display_data",
          "data": {
            "image/png": "[encoded data removed]",
            "text/plain": [
              "<Figure size 1080x360 with 1 Axes>"
            ]
          },
          "metadata": {
            "needs_background": "light"
          }
        }
      ]
    },
    {
      "cell_type": "markdown",
      "metadata": {
        "id": "-MMCQYAt52Jm"
      },
      "source": [
        "normalize weighted price using MinMaxScaler()"
      ]
    },
    {
      "cell_type": "code",
      "metadata": {
        "id": "r7ZkuZsrefW1"
      },
      "source": [
        "from sklearn.preprocessing import MinMaxScaler\n",
        "values = data['Weighted Price'].values.reshape(-1,1)\n",
        "values = values.astype('float32')\n",
        "scaler = MinMaxScaler(feature_range=(0, 1))\n",
        "scaled = scaler.fit_transform(values)"
      ],
      "execution_count": 5,
      "outputs": []
    },
    {
      "cell_type": "markdown",
      "metadata": {
        "id": "Ue_nOzGL6YFp"
      },
      "source": [
        "split data into 80% train 20% test"
      ]
    },
    {
      "cell_type": "code",
      "metadata": {
        "colab": {
          "base_uri": "https://localhost:8080/"
        },
        "id": "Fi56Ac8aySsx",
        "outputId": "ca4c794b-af68-4a43-ce0e-cae9ba69d75e"
      },
      "source": [
        "train_size = int(len(scaled) * 0.8)\n",
        "test_size = len(scaled) - train_size\n",
        "train, test = scaled[0:train_size,:], scaled[train_size:len(scaled),:]\n",
        "print(len(train), len(test))"
      ],
      "execution_count": 6,
      "outputs": [
        {
          "output_type": "stream",
          "name": "stdout",
          "text": [
            "1104 276\n"
          ]
        }
      ]
    },
    {
      "cell_type": "markdown",
      "metadata": {
        "id": "AyDmb3i26gwh"
      },
      "source": [
        "create create_dataset() function"
      ]
    },
    {
      "cell_type": "code",
      "metadata": {
        "id": "C7pYbR-xi5q4"
      },
      "source": [
        "def create_dataset(dataset, look_back=1):\n",
        "    dataX, dataY = [], []\n",
        "    for i in range(len(dataset) - look_back):\n",
        "        a = dataset[i:(i + look_back), 0]\n",
        "        dataX.append(a)\n",
        "        dataY.append(dataset[i + look_back, 0])\n",
        "    print(len(dataY))\n",
        "    return np.array(dataX), np.array(dataY)"
      ],
      "execution_count": 7,
      "outputs": []
    },
    {
      "cell_type": "markdown",
      "metadata": {
        "id": "SGZNRhKM6twd"
      },
      "source": [
        "generate dataset using create_dataset() function"
      ]
    },
    {
      "cell_type": "code",
      "metadata": {
        "colab": {
          "base_uri": "https://localhost:8080/"
        },
        "id": "H1HQwqG0g5Ej",
        "outputId": "1a740534-f601-4da9-cedc-a135a12f7ed8"
      },
      "source": [
        "import numpy as np\n",
        "look_back = 1\n",
        "trainX, trainY = create_dataset(train, look_back)\n",
        "testX, testY = create_dataset(test, look_back)"
      ],
      "execution_count": 8,
      "outputs": [
        {
          "output_type": "stream",
          "name": "stdout",
          "text": [
            "1103\n",
            "275\n"
          ]
        }
      ]
    },
    {
      "cell_type": "markdown",
      "metadata": {
        "id": "8vXV7BNE60Ib"
      },
      "source": [
        "reshape for model training"
      ]
    },
    {
      "cell_type": "code",
      "metadata": {
        "id": "A9VhJEgJ0qlj"
      },
      "source": [
        "trainX = np.reshape(trainX, (trainX.shape[0], 1, trainX.shape[1]))\n",
        "testX = np.reshape(testX, (testX.shape[0], 1, testX.shape[1]))"
      ],
      "execution_count": 9,
      "outputs": []
    },
    {
      "cell_type": "markdown",
      "metadata": {
        "id": "C3S3CrmPy41I"
      },
      "source": [
        "create myCallback() function to stop training when achieve mae < 0.01"
      ]
    },
    {
      "cell_type": "code",
      "metadata": {
        "id": "auF2iU09jbUM"
      },
      "source": [
        "import tensorflow as tf\n",
        "\n",
        "class myCallback(tf.keras.callbacks.Callback):\n",
        "  def on_epoch_end(self, epoch, logs={}):\n",
        "    if(logs.get('mae') < 0.01):\n",
        "      print(\"MAE has reached below 10%\")\n",
        "      self.model.stop_training = True\n",
        "callbacks = myCallback()"
      ],
      "execution_count": 10,
      "outputs": []
    },
    {
      "cell_type": "markdown",
      "metadata": {
        "id": "JQovdXgLzijL"
      },
      "source": [
        "build sequential model with 1 layer LSTM and Dense"
      ]
    },
    {
      "cell_type": "code",
      "metadata": {
        "id": "Ez7e16V7je5Z"
      },
      "source": [
        "model = tf.keras.models.Sequential([\n",
        "    tf.keras.layers.LSTM(100, input_shape=(trainX.shape[1], trainX.shape[2])),\n",
        "    # tf.keras.layers.LSTM(128),\n",
        "    # tf.keras.layers.Dropout(rate=0.2),\n",
        "    # tf.keras.layers.Dense(30, activation=\"relu\"),\n",
        "    # tf.keras.layers.Dense(1, activation=\"relu\"),\n",
        "    tf.keras.layers.Dense(1)\n",
        "])"
      ],
      "execution_count": 11,
      "outputs": []
    },
    {
      "cell_type": "markdown",
      "metadata": {
        "id": "kt-8aLavz8B3"
      },
      "source": [
        "using learning rate as optimizer, and mae as metrics"
      ]
    },
    {
      "cell_type": "code",
      "metadata": {
        "id": "sicbhb6djhwS"
      },
      "source": [
        "# optimizer = tf.keras.optimizers.SGD(lr=1.0000e-04, momentum=0.9)\n",
        "# model.compile(loss=tf.keras.losses.Huber(),\n",
        "#               optimizer=optimizer,\n",
        "#               metrics=[\"mae\"])\n",
        "\n",
        "optimizer = tf.keras.optimizers.Adam(learning_rate=0.01)\n",
        "model.compile(loss=tf.keras.losses.Huber(),\n",
        "              optimizer=optimizer,\n",
        "              metrics=[\"mae\"])"
      ],
      "execution_count": 12,
      "outputs": []
    },
    {
      "cell_type": "markdown",
      "metadata": {
        "id": "NUwAWd8M0Ik5"
      },
      "source": [
        "training model with 300 epochs, and shuffle false"
      ]
    },
    {
      "cell_type": "code",
      "metadata": {
        "colab": {
          "base_uri": "https://localhost:8080/"
        },
        "id": "qN3-3yCIjwA7",
        "outputId": "f5df2114-5f01-4d29-8d15-c42a9bff82bf"
      },
      "source": [
        "history = model.fit(trainX, trainY,\n",
        "                    epochs=300,\n",
        "                    batch_size=100,\n",
        "                    validation_data=(testX, testY),\n",
        "                    verbose=2,\n",
        "                    callbacks = callbacks,\n",
        "                    shuffle=False)"
      ],
      "execution_count": 13,
      "outputs": [
        {
          "output_type": "stream",
          "name": "stdout",
          "text": [
            "Epoch 1/300\n",
            "12/12 - 3s - loss: 0.0018 - mae: 0.0525 - val_loss: 0.0687 - val_mae: 0.3139 - 3s/epoch - 290ms/step\n",
            "Epoch 2/300\n",
            "12/12 - 0s - loss: 8.6008e-04 - mae: 0.0362 - val_loss: 0.0505 - val_mae: 0.2615 - 74ms/epoch - 6ms/step\n",
            "Epoch 3/300\n",
            "12/12 - 0s - loss: 4.5367e-04 - mae: 0.0253 - val_loss: 0.0438 - val_mae: 0.2465 - 73ms/epoch - 6ms/step\n",
            "Epoch 4/300\n",
            "12/12 - 0s - loss: 4.2797e-04 - mae: 0.0255 - val_loss: 0.0265 - val_mae: 0.1915 - 74ms/epoch - 6ms/step\n",
            "Epoch 5/300\n",
            "12/12 - 0s - loss: 2.5973e-04 - mae: 0.0195 - val_loss: 0.0112 - val_mae: 0.1263 - 78ms/epoch - 7ms/step\n",
            "Epoch 6/300\n",
            "12/12 - 0s - loss: 1.6195e-04 - mae: 0.0156 - val_loss: 0.0011 - val_mae: 0.0400 - 71ms/epoch - 6ms/step\n",
            "Epoch 7/300\n",
            "MAE has reached below 10%\n",
            "12/12 - 0s - loss: 3.2886e-05 - mae: 0.0068 - val_loss: 0.0027 - val_mae: 0.0487 - 89ms/epoch - 7ms/step\n"
          ]
        }
      ]
    },
    {
      "cell_type": "markdown",
      "metadata": {
        "id": "-pZTJmTI0SXE"
      },
      "source": [
        "visualize the history between loss and mae of training model"
      ]
    },
    {
      "cell_type": "code",
      "metadata": {
        "colab": {
          "base_uri": "https://localhost:8080/",
          "height": 336
        },
        "id": "y2cMO_ADj5pS",
        "outputId": "c6573e1b-93e8-47ff-f47d-8913951d23d8"
      },
      "source": [
        "def final_history(history):\n",
        "    fig, ax = plt.subplots(1, 2, figsize=(15,5))\n",
        "    ax[0].set_title('LOSS')\n",
        "    ax[0].plot(history.epoch, history.history[\"loss\"], label=\"Train Loss\")\n",
        "    ax[0].plot(history.epoch, history.history[\"val_loss\"], label=\"Validation Loss\")\n",
        "    ax[1].set_title('MAE')\n",
        "    ax[1].plot(history.epoch, history.history[\"mae\"], label=\"Train Mae\")\n",
        "    ax[1].plot(history.epoch, history.history[\"val_mae\"], label=\"Validation Mae\")\n",
        "    ax[0].legend()\n",
        "    ax[1].legend()\n",
        "\n",
        "final_history(history)"
      ],
      "execution_count": 14,
      "outputs": [
        {
          "output_type": "display_data",
          "data": {
            "image/png": "[encoded data removed]",
            "text/plain": [
              "<Figure size 1080x360 with 2 Axes>"
            ]
          },
          "metadata": {
            "needs_background": "light"
          }
        }
      ]
    }
  ]
}